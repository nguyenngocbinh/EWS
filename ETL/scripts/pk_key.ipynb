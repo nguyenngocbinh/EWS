{
 "cells": [
  {
   "cell_type": "code",
   "execution_count": 1,
   "metadata": {},
   "outputs": [],
   "source": [
    "import os\n",
    "import sys\n",
    "# Add the parent directory of 'src' to the system path\n",
    "module_path = os.path.abspath(os.path.join('..'))\n",
    "if module_path not in sys.path:\n",
    "    sys.path.append(module_path)\n",
    "from src.db import create_db2_engine, create_sql_server_engine, TableModifier\n",
    "from src.etl import ETL"
   ]
  },
  {
   "cell_type": "code",
   "execution_count": 3,
   "metadata": {},
   "outputs": [
    {
     "name": "stdout",
     "output_type": "stream",
     "text": [
      "SQL Server engine created successfully.\n"
     ]
    }
   ],
   "source": [
    "# Load SQL Server config\n",
    "sql_server_config = '../config/sql_server_config.yaml'\n",
    "    \n",
    "# Create SQL Server engine\n",
    "sql_server_engine = create_sql_server_engine(sql_server_config)\n",
    "print(\"SQL Server engine created successfully.\")"
   ]
  },
  {
   "cell_type": "code",
   "execution_count": 4,
   "metadata": {},
   "outputs": [],
   "source": [
    "# Example usage:\n",
    "table_modifier = TableModifier(sql_server_engine)\n",
    "table_modifier.alter_columns_and_create_index_primary( 'IFRS9_CTR_CL',  ['contract_id', 'process_date'])\n",
    "table_modifier.alter_columns_and_create_index_primary( 'IFRS9_CTR_LC',  ['contract_id', 'process_date'])\n",
    "table_modifier.alter_columns_and_create_index_primary( 'IFRS9_CTR_OD',  ['contract_id', 'process_date'])\n",
    "table_modifier.alter_columns_and_create_index_primary( 'EXCHANGE_RATE', ['ccy1', 'rate_date'])\n",
    "table_modifier.alter_columns_and_create_index_primary( 'IFRS9_CUST_INFO', ['customer_id', 'process_date'])\n",
    "table_modifier.alter_columns_and_create_index_primary( 'IFRS9_DEP_AMT', ['customer_id', 'process_date'])\n",
    "table_modifier.alter_columns_and_create_index_primary( 'IFRS9_DEP_AMT_TXN', ['customer_id', 'process_date'])\n",
    "table_modifier.alter_columns_and_create_index_primary( 'IFRS9_CST_CC',  ['customer_id', 'process_date'])\n",
    "table_modifier.alter_columns_and_create_index_primary( 'IFRS9_CST_LN',  ['customer_id', 'process_date'])"
   ]
  }
 ],
 "metadata": {
  "kernelspec": {
   "display_name": "Python 3.10.11 64-bit ('env_sql')",
   "language": "python",
   "name": "python3"
  },
  "language_info": {
   "codemirror_mode": {
    "name": "ipython",
    "version": 3
   },
   "file_extension": ".py",
   "mimetype": "text/x-python",
   "name": "python",
   "nbconvert_exporter": "python",
   "pygments_lexer": "ipython3",
   "version": "3.10.11"
  },
  "orig_nbformat": 4,
  "vscode": {
   "interpreter": {
    "hash": "d0edfd76fa6922087f3f46939d3d7fb87e068436dc9cf77637c5c607e56393f0"
   }
  }
 },
 "nbformat": 4,
 "nbformat_minor": 2
}
